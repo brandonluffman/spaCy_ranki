{
 "cells": [
  {
   "cell_type": "code",
   "execution_count": null,
   "metadata": {},
   "outputs": [],
   "source": [
    "import spacy\n",
    "\n",
    "# nlp1 = spacy.load('./output/model-last')\n",
    "nlp = spacy.load('en_core_web_sm')\n",
    "text = \"Built like a trail running shoe but with added ankle support and protection, the Salomon X Ultra 4 Mid is our favorite all-around hiking boot for 2023. Updated last spring with a sleeker upper and revised chassis, the latest version of the boot offers an impressive combination of comfort and low weight—all while retaining solid toe protection, stability, and well-rounded traction. You also get Salomon build quality, which we’ve found tends to stand up to more abuse on the trail than other boots in this weight and price range. For fast-moving day hikers, lightweight backpackers, and even thru-hikers, we heartily recommend the X Ultra 4 Mid.\"\n",
    "\n",
    "doc = nlp(text)\n",
    "\n",
    "colors = {'PRODUCT': \"#85C1E9\"}\n",
    "options = {\"ents\": ['PRODUCT'], \"colors\": colors} \n",
    "spacy.displacy.render(doc, style=\"ent\", jupyter=True, options=options)"
   ]
  },
  {
   "cell_type": "code",
   "execution_count": null,
   "metadata": {},
   "outputs": [],
   "source": []
  }
 ],
 "metadata": {
  "language_info": {
   "name": "python"
  },
  "orig_nbformat": 4
 },
 "nbformat": 4,
 "nbformat_minor": 2
}
